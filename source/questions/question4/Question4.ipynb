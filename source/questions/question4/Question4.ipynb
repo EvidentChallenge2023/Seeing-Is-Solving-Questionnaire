{
 "cells": [
  {
   "attachments": {},
   "cell_type": "markdown",
   "metadata": {},
   "source": [
    "## Question 4 : design patterns\n",
    "\n",
    "Cette question comprend différents problèmes à choix de réponses. \n",
    "Pour chaque question il faut sélectionner quel est le patron de conception utilisé parmi ceux de la liste qui suit.\n",
    "Vous devrez implémenter le choix de réponse de chaque problème dans le fichier suivant : questions/question4/Design_Patterns.py.\n",
    "Vous pourrez trouver de l'information sur les diagrammes de classe UML en cliquant sur ce lien https://khalilstemmler.com/articles/uml-cheatsheet/ !\n",
    "\n",
    "***\n",
    "This question involves multiple-choice problems.\n",
    "For each question, select the design pattern used from the list below.\n",
    "You will need to implement the answer for each issue in the following file: questions/question4/Design_Patterns.py\n",
    "You can find information about UML class diagrams by clicking on this link: https://khalilstemmler.com/articles/uml-cheatsheet/!\n",
    "\n",
    "<u>Patrons de conception / Design patterns :</u>\n",
    "\n",
    "A : Fabrique / Factory method\n",
    "\n",
    "B : Fabrique abstraite / Abstract Factory\n",
    "\n",
    "C : Monteur / Builder\n",
    "\n",
    "D : Prototype / Prototype\n",
    "\n",
    "E : Singleton / Singleton\n",
    "\n",
    "F : Adapteur / Adapter\n",
    "\n",
    "G : Pont / Bridge\n",
    "\n",
    "H : Composite / Composite\n",
    "\n",
    "I : Décorateur / Decorator\n",
    "\n",
    "J : Façade / Facade\n",
    "\n",
    "K : Poids mouche / Flyweight\n",
    "\n",
    "L : Procuration / Proxy\n",
    "\n",
    "M : Chaîne de responsabilité / Chain of responsability\n",
    "\n",
    "N : Commande / Command \n",
    "\n",
    "O : Itérateur / Iterator\n",
    "\n",
    "P : Médiateur / Mediator\n",
    "\n",
    "Q : Mémento / Memento\n",
    "\n",
    "R : Observateur / Observator\n",
    "\n",
    "S : État / State\n",
    "\n",
    "T : Stratégie / Strategy\n",
    "\n",
    "U : Patron de méthode / Template method\n",
    "\n",
    "V : Visiteur / Visitor\n"
   ]
  },
  {
   "attachments": {},
   "cell_type": "markdown",
   "metadata": {},
   "source": [
    "\n",
    "### Problem A (4.1)\n",
    " \n",
    "\n",
    "Dans le diagramme de classe suivant, déterminer quel patron de conception est utilisé.\n",
    "\n",
    "***\n",
    "Into the following class diagram, determine which design pattern is used.\n",
    "\n",
    "![](images/class_diagram_A.PNG)"
   ]
  },
  {
   "attachments": {},
   "cell_type": "markdown",
   "metadata": {},
   "source": [
    "![](Class_Diagrams.class_diagram_B.PNG)\n"
   ]
  },
  {
   "attachments": {},
   "cell_type": "markdown",
   "metadata": {},
   "source": [
    "\n",
    "### Problem B (4.2)\n",
    " \n",
    "\n",
    "Dans le diagramme de classe suivant, déterminer quel patron de conception est utilisé.\n",
    "\n",
    "***\n",
    "Into the following class diagram, determine which design pattern is used.\n",
    "\n",
    "![](images/class_diagram_B.PNG)"
   ]
  },
  {
   "attachments": {},
   "cell_type": "markdown",
   "metadata": {},
   "source": [
    "\n",
    "### Problem C (4.3)\n",
    " \n",
    "\n",
    "Dans le diagramme de classe suivant, déterminer quel patron de conception est utilisé.\n",
    "\n",
    "***\n",
    "Into the following class diagram, determine which design pattern is used.\n",
    "\n",
    "![](images/class_diagram_C.PNG)"
   ]
  },
  {
   "attachments": {},
   "cell_type": "markdown",
   "metadata": {},
   "source": [
    "\n",
    "### Problem D (4.4)\n",
    " \n",
    "\n",
    "Dans le diagramme de classe suivant, déterminer quel patron de conception est utilisé.\n",
    "\n",
    "***\n",
    "Into the following class diagram, determine which design pattern is used.\n",
    "\n",
    "![](images/class_diagram_D.PNG)"
   ]
  },
  {
   "attachments": {},
   "cell_type": "markdown",
   "metadata": {},
   "source": [
    "\n",
    "### Problem D (4.5)\n",
    " \n",
    "\n",
    "Dans le diagramme de classe suivant, déterminer quel patron de conception est utilisé.\n",
    "\n",
    "***\n",
    "Into the following class diagram, determine which design pattern is used.\n",
    "\n",
    "![](images/class_diagram_E.PNG)"
   ]
  }
 ],
 "metadata": {
  "language_info": {
   "name": "python"
  },
  "orig_nbformat": 4
 },
 "nbformat": 4,
 "nbformat_minor": 2
}
