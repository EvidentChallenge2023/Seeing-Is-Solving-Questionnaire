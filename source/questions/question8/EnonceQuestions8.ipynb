{
 "cells": [
  {
   "attachments": {},
   "cell_type": "markdown",
   "metadata": {},
   "source": [
    "## Question 8_1\n",
    "Cette question a pour objectif de programmer un simple algorithm de décryption de certaines données\n",
    "- Niveau de difficulté: Très facile\n",
    "- Pointage total: 5 points\n",
    "- Quel fichier consulter: source/questions/question8/question8_1/Question8_1.ipynb\n",
    "***\n",
    "This question aims to program simple algorithm to decrypt some data\n",
    "- Level of difficulty: Very easy\n",
    "- Total score: 5 points\n",
    "- Which file to consult: source/questions/question8/question8_1/Question8_1.ipynb"
   ]
  },
  {
   "attachments": {},
   "cell_type": "markdown",
   "metadata": {},
   "source": [
    "# Question 8_2 \n",
    "L'objectif de cette question est d'implémenter un algorithme de tri sécuritaire, ceci permettra d'éviter toutes de compromettre les données\n",
    "- Niveau de difficulté: Facile\n",
    "- Pointage total: 20 points\n",
    "- Quel fichier consulter?:source/questions/question8/question8_2/question8_2.ipynb\n",
    "***\n",
    "The objective of this question is to implement a secure sorting algorithm, this will avoid any data compromise\n",
    "- Level of difficulty: Medium\n",
    "- Total score: 20 points\n",
    "- Which file to consult:source/questions/question8/question8_2/question8_2.ipynb"
   ]
  }
 ],
 "metadata": {
  "language_info": {
   "name": "python"
  },
  "orig_nbformat": 4
 },
 "nbformat": 4,
 "nbformat_minor": 2
}
