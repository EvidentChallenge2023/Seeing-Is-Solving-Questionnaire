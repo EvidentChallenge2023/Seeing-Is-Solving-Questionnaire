{
 "cells": [
  {
   "attachments": {},
   "cell_type": "markdown",
   "metadata": {},
   "source": [
    "# Question 8_2: Algorithme de tri - Sorting algorithm"
   ]
  },
  {
   "attachments": {},
   "cell_type": "markdown",
   "metadata": {},
   "source": [
    "Maintenant que vous avez pu récupérer les données sans vous faire pirater par des pirates, votre équipe de développement souhaite trier ces millions de données.\n",
    "\n",
    "Vous êtes donc chargé de développer un algorithme de tri pour une liste de couples [(*c1*, *d1*), (*c2*, *d2*), ..., (*cn*, *dn*)]. La sécurité des données est primordiale, vous devez donc vous assurer que l'algorithme soit stable, c'est-à-dire qu'il préserve l'ordre d'apparition des couples similaires lors du tri. \n",
    "\n",
    "Pour comparer deux couples(*ci*, *di*) et (*cj*, *dj*), seule la comparaison du premier élément de chaque couple (*ci* avec *cj*) est nécessaire. Ainsi, le couple (2, \"XDFFSS\") doit être classé avant le couple (3, \"0ikks34\") car 2 est inférieur à 3. De même, les couples (3, 7) et (3, 18) doivent être considérés comme similaires car ils ont le même premier élément (3). Assurez-vous que votre algorithme satisfasse ces critères de sécurité pour éviter des résultats inattendus. \n",
    "\n",
    "Implémentez votre algorithme dans le fichier **source\\questions\\question8\\question8_2\\DataStability.py**. Deux méthodes de cette classe sont des suggestion d'implémentation, seul le résultat de la méthode suivante sera testé : **def perform_sort(self) -> list:**. Les échantillons de données à classer se trouvent dans les fichiers suivants : \n",
    "\n",
    "- source\\questions\\question8\\question8_2\\dataset_test_degenerate.csv\n",
    "- source\\questions\\question8\\question8_2\\dataset_test_random.csv\n",
    "- source\\questions\\question8\\question8_2\\dataset_test_simple.csv\n",
    "- source\\questions\\question8\\question8_2\\dataset_test_with_duplicate.csv\n",
    "\n",
    "\n",
    "***\n",
    "Now that you have successfully retrieved the data without being hacked by pirates, your development team wants to sort these millions of data entries.\n",
    "\n",
    "You are tasked with developing a sorting algorithm for a list of pairs [(*c1*, *d1*), (*c2*, *d2*), ..., (*cn*, *dn*)]. Data security is paramount, so you must ensure that the algorithm is stable, meaning it preserves the original order of appearance for similar pairs during sorting. \n",
    "\n",
    "To compare two pairs (*ci*, *di*) and (*cj*, *dj*), only the comparison of the first element of each pair (ci with cj) is necessary. Therefore, the pair (2, \"XDFFSS\") should be ranked before the pair (3, \"0ikks34\") because 2 is less than 3. Similarly, the pairs (3, 7) and (3, 18) should be considered similar because they have the same first element (3). Make sure your algorithm satisfies these security criteria to avoid unexpected results.\n",
    "\n",
    "Implement your algorithm in the file **source\\questions\\question8\\question8_2\\DataStability.py**.Two methods in this class are implementation suggestions, only the result of the following method will be tested: **def perform_sort(self) -> list:** . The data samples to be sorted can be found in the following files:\n",
    "\n",
    "- source\\questions\\question8\\question8_2\\dataset_test_degenerate.csv\n",
    "- source\\questions\\question8\\question8_2\\dataset_test_random.csv\n",
    "- source\\questions\\question8\\question8_2\\dataset_test_simple.csv\n",
    "- source\\questions\\question8\\question8_2\\dataset_test_with_duplicate.csv"
   ]
  }
 ],
 "metadata": {
  "kernelspec": {
   "display_name": ".NET (PowerShell)",
   "language": "PowerShell",
   "name": ".net-powershell"
  },
  "language_info": {
   "file_extension": ".ps1",
   "mimetype": "text/x-powershell",
   "name": "PowerShell",
   "pygments_lexer": "powershell",
   "version": "7.0"
  },
  "orig_nbformat": 4
 },
 "nbformat": 4,
 "nbformat_minor": 2
}
