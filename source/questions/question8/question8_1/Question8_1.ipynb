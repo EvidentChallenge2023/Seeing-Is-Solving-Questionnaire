{
 "cells": [
  {
   "attachments": {},
   "cell_type": "markdown",
   "metadata": {},
   "source": [
    "## Question 8.1:  Simple décryption"
   ]
  },
  {
   "attachments": {},
   "cell_type": "markdown",
   "metadata": {},
   "source": [
    "Vous faites partie de l'équipe de développement d'applications de sécurité. La compagnie pour laquelle vous travaillez offre des services de mesure et d'inspection des hélices éoliennes. Les données recueillies lors des inspections sont transférées instantanément dans le bureau où vous travaillez, afin d'être analysées par les experts du domaine.\n",
    "\n",
    "Cependant, les hélices se trouvent dans des zones à fort taux de cybercriminalité. Vous avez donc décidé, pour le moment, de créer un petit script qui permet de déchiffrer les données qui sont transférées à des fins d'analyse et qui ont été préalablement chiffrées. Les données chiffrées sont représentées par une chaîne de caractères. Votre objectif est de trouver l'algorithme de décryptage permettant de retrouver une phrase en français ou en anglais. Vous devez écrire votre script de décryptage dans la méthode \"decrypt_data()\" située dans le fichier **source\\questions\\question8\\question8_1\\Decryptor.py**. Les messages à décrypter se trouvent dans le fichier **source\\questions\\question8\\question8_1\\MessageToDecript.py**. Vous devez retourner les phrases en clair.\n",
    "\n",
    "***\n",
    "You are part of the security application development team. The company you work for offers measurement and inspection services for wind turbine blades. The data collected during inspections is instantly transferred to the office where you work to be analyzed by domain experts.\n",
    "\n",
    "However, the turbine blades are located in high cybercrime areas. Therefore, you have decided to create a small script for now that can decrypt the data that is transferred for analysis, which has been previously encrypted. The encrypted data is represented as a string. Your task is to find the decryption algorithm that can retrieve a sentence in French or English. Write your decryption script in the \"decrypt_data()\" method located in the file **source\\questions\\question8\\question8_1\\Decryptor.py**. The messages to be decrypted can be found in the file **source\\questions\\question8\\question8_1\\MessageToDecrypt.py**. You should return the decrypted sentences.\n",
    "\n"
   ]
  }
 ],
 "metadata": {
  "kernelspec": {
   "display_name": "env",
   "language": "python",
   "name": "python3"
  },
  "language_info": {
   "codemirror_mode": {
    "name": "ipython",
    "version": 3
   },
   "file_extension": ".py",
   "mimetype": "text/x-python",
   "name": "python",
   "nbconvert_exporter": "python",
   "pygments_lexer": "ipython3",
   "version": "3.11.2"
  },
  "orig_nbformat": 4
 },
 "nbformat": 4,
 "nbformat_minor": 2
}
