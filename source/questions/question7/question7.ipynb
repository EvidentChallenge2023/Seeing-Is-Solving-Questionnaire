{
 "cells": [
  {
   "attachments": {},
   "cell_type": "markdown",
   "metadata": {},
   "source": [
    "# Création d'un algorithme en GLSL avec un shader en ligne\n",
    "\n",
    "### Contexte \n",
    "\n",
    "Evident étant une compagnie ouverte sur la diversité et la culture aimerait créer un AScan avec les couleur de l'arc-en-ciel pour soutenir la journée mondiale contre l'homophobie et la transphobie qui a eu lieu le 17 mai 2023. \n",
    "***\n",
    "Evident, being a company that embraces diversity and culture, would like to create an AScan with the colors of the rainbow to support the International Day Against Homophobia and Transphobia, which took place on May 17th, 2023.\n",
    "\n",
    "![Drapeau](drapeau_.jpg)\n",
    "\n",
    "\n",
    "### Mandat\n",
    "Afin de compléter cette question, nous vous invitons à utiliser ce [shader](https://thebookofshaders.com/edit.php) en ligne.\n",
    "Nous vous demandons de mettre le code complet que vous aurez utilisé dans l'outil en ligne dans le fichier suivant afin que nous puissions effecteur la correction manuellement: **source\\question7\\AScan_arc_en_ciel.glsl** . Nous allons simplement prendre votre fichier et l'ouvrir dans l'outil pour effectuer le correction.\n",
    "\n",
    "Voici les requis : \n",
    "- (7.1) Votre résultat doit afficher une courbe de AScan (un sinus) sans les axes qui avance de gauche à droite et qui ne dépasse pas 80% de la heuteur total de l'espace d'affichage. Voir sur l'image ci-dessous ce que nous voulons dire par 80% environ de la hauteur totale.\n",
    "![808](808.jpg)\n",
    "\n",
    "- (7.2) Nous vous demandons d'afficher un signal non-rectifié. Voci une image d'un signal non-rectifié.\n",
    "![808](RF.jpg)\n",
    "\n",
    "- (7.3) Nous vous demandons que l'épaisseur du signal soit assez épaisse pour nous permettre de voir que la courbe n'a pas la même couleur du début à la fin.\n",
    "\n",
    "- (7.4) Nous vous demandons que la courbe prenne les couleur du drapeau présenté ci-haut dans l'ordre, c'est à dire; rouge, orange, jaune, vert, bleu et mauve. Les couleurs doivent défiler sur la courbe de gauche à droite. \n",
    "\n",
    "- (7.5) Le fond de l'espace d'affichage derrière la courbe doit être noir.\n",
    "\n",
    "- (7.6) Nous vous demandons d'afficher une courbe qui oscille en amplitude pendant qu'elle avance de gauche à droite. Elle ne doit jamais dépasser 80% mais nous aimerions visualiser une variation d'amplitude (sur l'axe des y) aléatoire comme nous l'observons naturellement sur un signal ultrasonore. La correction ne sera pas stricte ici, nous voulons seulement voir un caractère aléatoire. Voir l'image ci-dessous pour comprendre mieux un signal qui défile de gauche à droite.\n",
    "![808](signal_defile.jpg)\n",
    "\n",
    "- (7.7) Nous demandons que la fréquence de un des différents sinus soit au maximum 1/10 (de large) de l'écran et qu'un sinus de fréquence maximal effectue un déplacement latéral complet de gauche à droite de l'écran dans un délais de 5 secondes. "
   ]
  },
  {
   "attachments": {},
   "cell_type": "markdown",
   "metadata": {},
   "source": [
    "Voici environ ce à quoi nous nous attendons mais en mouvement et avec une amplitude maximale de 80%.  \n",
    "\n",
    "![808](SinusArcEnCiel_QuestionGlsl.svg)\n",
    "\n",
    "***"
   ]
  },
  {
   "attachments": {},
   "cell_type": "markdown",
   "metadata": {},
   "source": [
    "### Mandate\n",
    "To complete this question, we invite you to use this online shader.\n",
    "\n",
    "We kindly request you to put the complete code you used in the online tool into the following file so that we can manually perform the correction: **source/question7/AScan_arc_en_ciel.glsl**. We will simply take your file and open it in the tool to perform the correction.\n",
    "\n",
    "Here are the requirements : \n",
    "- (7.1) Your result should display an AScan curve (a sine wave) without axes, progressing from left to right, and not exceeding approximately 80% of the total display height. Please refer to the image below to understand what we mean by around 80% of the total height.\n",
    "![808](808.jpg)\n",
    "\n",
    "- (7.2) We request that you display a non-rectified signal. Here is an image of a non-rectified signal.\n",
    "![808](RF.jpg)\n",
    "\n",
    "- (7.3) The signal thickness should be significant enough to allow us to see that the curve's color varies from the beginning to the end.\n",
    "\n",
    "- (7.4) We ask that the curve takes on the colors of the flag presented above in the following order: red, orange, yellow, green, blue, and purple. The colors should transition from left to right along the curve.\n",
    "\n",
    "- (7.5) The background of the display space behind the curve should be black.\n",
    "\n",
    "- (7.6) We request that the curve oscillates in amplitude as it progresses from left to right. It should never exceed 80%, but we would like to visualize random amplitude variation (on the y-axis), similar to what we naturally observe in an ultrasonic signal. The randomness doesn't need to be strict; we just want to see a random characteristic. Please refer to the image below to better understand a scrolling signal from left to right.\n",
    "![808](signal_defile.jpg)\n",
    "\n",
    "- (7.7) We request that the frequency of one of the sinusoids be at most 1/10 (of the width) of the screen, and that a sinusoid with the maximum frequency completes a full lateral movement from left to right on the screen within a time frame of 5 seconds."
   ]
  },
  {
   "attachments": {},
   "cell_type": "markdown",
   "metadata": {},
   "source": [
    "Here is about what we expect but mooving and with a maximum amplitude of 80%:\n",
    "\n",
    "\n",
    "![808](SinusArcEnCiel_QuestionGlsl.svg)\n",
    "\n",
    "***"
   ]
  }
 ],
 "metadata": {
  "language_info": {
   "name": "python"
  },
  "orig_nbformat": 4
 },
 "nbformat": 4,
 "nbformat_minor": 2
}
