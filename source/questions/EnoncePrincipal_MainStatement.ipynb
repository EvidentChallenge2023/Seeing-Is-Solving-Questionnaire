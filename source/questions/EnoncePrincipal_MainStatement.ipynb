{
 "cells": [
  {
   "attachments": {},
   "cell_type": "markdown",
   "metadata": {},
   "source": [
    "# <center>Evident Challenge</center>  \n",
    "# <center>Énoncé principal - Main Statement</center> \n",
    "***"
   ]
  },
  {
   "attachments": {},
   "cell_type": "markdown",
   "metadata": {
    "dotnet_interactive": {
     "language": "csharp"
    },
    "polyglot_notebook": {
     "kernelName": "csharp"
    }
   },
   "source": [
    "(Scroll down for English version)\n",
    "\n",
    "Bonjour à tous et bienvenue au Evident Challenge! \n",
    "\n",
    "Nous espérons que vous aurez beaucoup de plaisir à participer à cette compétition. Nous avons fait de notre mieux pour créer un questionnaire avec des niveaux de difficulté variés ainsi qu'une diversité des différentes technologies abordées. Nous vous ferons parvenir un petit sondage par la suite afin de faire une rétrospective constructive et ainsi utiliser vos commentaires pour améliorer l'expérience l'année prochaine.\n",
    "\n",
    "\n",
    "**Voici les points importants à savoir concernant cette compétition :**\n",
    "\n",
    "1. Chaque question contiendra une description que vous retrouverez dans ce document. La grille de correction se situe dans le fichier suivant : **source/correction/GrilleDeCorrection_CorrectionGrid.xls** . Il y a 5 types de questions qui sont les suivant :\n",
    "\n",
    "    - Très Facile : 5 pts\n",
    "    - Facile : 20 pts\n",
    "    - Moyen : 50 pts\n",
    "    - Difficile : 85 pts\n",
    "    - Très difficile : 200 pts\n",
    "\n",
    "    Vous pourriez aussi vous voir attribué un certain nombre de points pour : \n",
    "\n",
    "    - Le linter : 10 pts (tout ou rien)\n",
    "    - L'architecture  : 0 à 20 pts max\n",
    "    - Performances : 0 à 20 pts max <br>\n",
    "<br>\n",
    "\n",
    "2. Certaines questions seront simplement à répondre dans un fichier notebook (.ipynb) et d'autres seront à implémenter dans des fichiers python (.py) directement. Chaque question vous fournira des indications claires à cet effet.\n",
    "\n",
    "3. Un dossier question peut comprendre une seule ou plusieurs sous-questions.\n",
    "\n",
    "4. Il n'est pas nécessaire de répondre aux questions dans l'ordre, vous pouvez par exemple utiliser des stratégies vous octroyant un maximum de points. Il est normal de ne pas compléter toutes les questions ; la stratégie pour accomplir le défi est un élément clé de cette compétition.\n",
    "\n",
    "5. Nous vous demandons de créer vos tests personnel dans le module suivant ***\"source\\testsperso\"***. Vos fichiers de tests personnels ne seront pas évalués. Cependant, certaines questions peuvent demander l'implémentation de tests qui seront évalués.\n",
    "\n",
    "6. Le présent fichier (EnoncePrincipal_MainStatement.pynb) ***ne doit pas être modifié***. Si ce fichier est modifié dans votre commit final, votre copie ne sera pas corrigée.\n",
    "\n",
    "7. Pour chacune des questions, il vous sera demandé d'implémenter des méthodes qui sont déjà définies. ***Ne modifiez pas le nom de ces méthodes*** car des tests automatisés seront exécutés sur ces dernières. Si vous modifiez le nom d'une méthode à implémenter, le test automatisé échouera et vous n'aurez aucun point pour cette question. ***Ne changez pas le nom des modules***, si le test ne découvre pas votre classe car un module a été renommé, le test automatisé échouera et vous n'aurez aucun point pour cette question.\n",
    "\n",
    "\n",
    "***\n",
    "\n",
    "Hello everyone and welcome to the Evident Challenge! \n",
    "\n",
    "We hope you will have a lot of fun participating in this competition. We have done our best to create a questionnaire with varied levels of difficulty and a diversity of different technologies covered. We will send you a short survey afterwards to conduct a constructive retrospective and use your feedback to improve the experience next year.\n",
    "\n",
    "\n",
    "**Here are the important points to know about this competition:**\n",
    "\n",
    "1. Each question will have a description that you will find in this document. The Shim Grid is located in the following file: **source/correction/GrilleDeCorrection_CorrectionGrid.xls**. There are 5 types of questions, which are as follows:\n",
    "\n",
    "    - Very Easy: 5 points\n",
    "    - Easy: 20 points\n",
    "    - Medium: 50 points\n",
    "    - Difficult: 85 points\n",
    "    - Very Difficult: 200 points\n",
    "\n",
    "    You may also be awarded a certain number of points for:\n",
    "\n",
    "    - Linter: 10 points (all or nothing)\n",
    "    - Architecture: 0 to a maximum of 20 points\n",
    "    - Performance: 0 to a maximum of 20 points<br>\n",
    "<br>\n",
    "2. Some questions will simply be answered in a notebook (.ipynb) file and others will be implemented in python (.py) files directly. Each question will give you a clear indication of this.\n",
    "\n",
    "3. A question file may include one or more sub-questions.\n",
    "\n",
    "4. It is not necessary to answer the questions in order, for example you can use strategies that grant you maximum points. It is normal not to complete all the questions; the strategy to accomplish the challenge is a key element of this competition\n",
    "\n",
    "5. We ask you to create your personal tests in the following module: \"source\\testsperso\". Your personal test files will not be graded. However, some questions may require you to implement tests that will be evaluated. \n",
    "\n",
    "6. This file (EnoncePrincipal_MainStatement.pynb) ***must not be edited***. If this file is modified in your final commit, your copy will not be fixed.\n",
    "\n",
    "7. For each question, you will be asked to implement methods that are already defined. ***Do not change the name of these methods*** as automated tests will be performed on these methods. If you change the name of a method to implement, the automated test will fail and you will have no points for that question. ***Do not change the names of the modules.*** If the test cannot find your class because a module has been renamed, the automated test will fail, and you will receive no points for that question.\n",
    "\n",
    "***\n"
   ]
  },
  {
   "attachments": {},
   "cell_type": "markdown",
   "metadata": {},
   "source": [
    "## Question 1\n",
    "\n",
    "Cette question porte sur les fichiers HDF5 soit l'écriture et la lecture de fichiers. \n",
    "\n",
    "- Niveau de difficulté : Easy & Medium\n",
    "- Pointage total : 180\n",
    "- Quel fichier consulter : source/question/question1/Question1.ipynb \n",
    "***\n",
    "This question is about HDF5 file to write and read files. \n",
    "\n",
    "- Difficulty level : Easy & Medium\n",
    "- Total points : 180\n",
    "- Working file  : source/questions/Question1/Question1.ipynb"
   ]
  },
  {
   "attachments": {},
   "cell_type": "markdown",
   "metadata": {},
   "source": [
    "## Question 2\n",
    "\n",
    "Cette question porte sur les principes SOLID. Voyons si vous êtes un fan d'oncle Bob! \n",
    "Un kernel .Net a été utilisé pour le code exposé dans ce notebook. \n",
    "\n",
    "- Niveau de difficulté : Very Easy\n",
    "- Pointage total : 25 points\n",
    "- Quel fichier consulter : source/question/question2/Question2.ipynb \n",
    "***\n",
    "This question is about SOLID principles. Let’s see if you’re a fan of Uncle Bob! \n",
    "A . Net kernel was used for the code shown in this notebook. \n",
    "\n",
    "- Difficulty level : Medium\n",
    "- Total points : 25 points\n",
    "- Working file  : source/questions/question2/Question2.ipynb\n"
   ]
  },
  {
   "attachments": {},
   "cell_type": "markdown",
   "metadata": {},
   "source": [
    "## Question 3\n",
    "\n",
    "La génération et la réception d'ondes ultrasonores permettent de visualiser la structure du milieu de propagation. En utilisant des sondes multiéléments, basées sur le principe de l'interférence constructive, les échos peuvent être focalisés en des points spécifiques pour faciliter leur détection. Pour cela, des délais électroniques doivent être calculés pour chaque élément, en tenant compte du temps de vol des ondes et des phénomènes de réfraction. Cette question consiste à déterminer les points d'entrée des rayons pour compléter le calcul des délais électroniques.\n",
    "\n",
    "- Niveau de difficulté : Moyen\n",
    "- Pointage total : 85 points\n",
    "- Énoncé de la question : source/questions/question3/DelayGenerator.ipynb\n",
    "- Quel fichier modifier : classe `EntryPointCalculator` dans source/questions/question3/question3.py\n",
    "\n",
    "---\n",
    "\n",
    "The generation and reception of ultrasonic waves allow visualizing the structure of a medium. By using multi-element probes based on the principle of constructive interference, echoes can be focused on specific points to facilitate their detection. For this purpose, electronic delays need to be calculated for each element, taking into account the time of flight of the waves and refraction phenomena. The problem consists of determining the entry points of the rays to complete the calculation of electronic delays.\n",
    "\n",
    "- Difficulty level : Medium\n",
    "- Total points : 85 points\n",
    "- Question statement : source/questions/question3/DelayGenerator.ipynb\n",
    "- Which file to modify: class `EntryPointCalculator` in source/questions/question3/question3.py"
   ]
  },
  {
   "attachments": {},
   "cell_type": "markdown",
   "metadata": {},
   "source": [
    "## Question 4\n",
    "\n",
    "Cette question porte sur les patrons de conception. Voyons voir si vous connaissez bien vos bases !\n",
    "\n",
    "- Niveau de difficulté : Très Facile\n",
    "- Pointage total : 25 points\n",
    "- Quel fichier consulter : source/questions/question4/Question4.ipynb \n",
    "---\n",
    "\n",
    "This question is about design patterns. Let's see how well you know your basics!\n",
    "\n",
    "- Difficulty level : Very Easy\n",
    "- Total score : 25 points\n",
    "- Working file  : source/questions/question4/Question4.ipynb"
   ]
  },
  {
   "attachments": {},
   "cell_type": "markdown",
   "metadata": {},
   "source": [
    "## Question 5\n",
    "\n",
    "Cette question porte sur la création d'un CI! \n",
    "\n",
    "- Niveau de difficulté : Very Easy & Medium selon la sous question\n",
    "- Pointage total : 65 points\n",
    "- Quel fichier consulter : source/questions/question5/question5.ipynb \n",
    "***\n",
    "This question is about creating a CI (Continuous Integration) system.\n",
    "\n",
    "- Difficulty level : Very Easy & Medium according to the sub-question.\n",
    "- Total points : 65 points\n",
    "- Working file  : source/questions/question5/question5.ipynb\n"
   ]
  },
  {
   "attachments": {},
   "cell_type": "markdown",
   "metadata": {},
   "source": [
    "## Question 6\n",
    "\n",
    "L'objectif de cette question est de déterminer l'angle α (en degrés) d'un sabot à partir du signal généré par deux impulsions.\n",
    "\n",
    "- Niveau de difficulté : Difficile\n",
    "- Pointage total : 105 points (20 pour démarche et architecture. 85 correction automatique)\n",
    "- Quel fichier consulter : source/questions/question6/Wedge_Angle.ipynb \n",
    "***\n",
    "The objective of this question is to determine the angle α (in degrees) of a wedge from the signal generated by two pulses.\n",
    "\n",
    "- Difficulty level : Hard\n",
    "- Total points : 105 points (20 for approach and architecture. 85 automatic correction)\n",
    "- Working file  : source/questions/question6/Wedge_Angle.ipynb \n"
   ]
  },
  {
   "attachments": {},
   "cell_type": "markdown",
   "metadata": {},
   "source": [
    "## Question 7\n",
    "\n",
    "L'objectif de cette question est de créer un code GLSL sur un outil en ligne.\n",
    "\n",
    "- Niveau de difficulté : Moyen \n",
    "- Pointage total : 50 points\n",
    "- Quel fichier consulter : source/questions/question7/question7.ipynb \n",
    "***\n",
    "The objective of this question is to write a GLSL code that can be red on an online tool.\n",
    "\n",
    "- Difficulty level : Average\n",
    "- Total points : 40 points\n",
    "- Working file  : source/questions/question7/question7.ipynb "
   ]
  },
  {
   "attachments": {},
   "cell_type": "markdown",
   "metadata": {},
   "source": [
    "## Question 8\n",
    "Cette question porte sur la sécurité informatique et comprend trois sous-questions.\n",
    "Votre objectif est de programmer un simple algorithme de déchiffrement, un autre de tri stable de données, et enfin de décrypter un message encrypté avec un chiffrement conçu entre 1700 et 1750.\n",
    "\n",
    "- Niveau de difficulté: Très facile \n",
    "- Pointage total: 50 points \n",
    "- Quels fichiers consulter: source/questions/question8/question8_1/Question8_1.ipynb || source/questions/question8/question8_2/ Question8_2.ipynb || source/questions/question8/question8_3/ Question8_3.ipynb\n",
    "***\n",
    "This question is about computer security and includes three sub-questions.\n",
    "Your objective is to program a simple decryption algorithm and stable sort algorithm.\n",
    "Your goal is to program a simple decryption algorithm, another one for stable data sorting, and finally decrypt a message encrypted using a cipher designed between 1700 and 1750.\n",
    "- Level of difficulty: Very easy\n",
    "- Total score: All or nothing at 50 points\n",
    "- Working file: source/questions/question8/question8_1/Question8_1.ipynb || source/questions/question8/question8_2/ Question8_2.ipynb || source/questions/question8/question8_3/ Question8_3.ipynb"
   ]
  },
  {
   "attachments": {},
   "cell_type": "markdown",
   "metadata": {},
   "source": [
    "## Question 9\n",
    "\n",
    "Cette question vous demande de retrouver un message sous la forme d'une chaîne de caractère à l'intérieur de données 3D en mesure ultrasonore de corrosion.\n",
    "\n",
    "- Niveau de difficulté : Très Difficile\n",
    "- Pointage total : 210 points (200 pts + 10 pts pour le linter)\n",
    "- Quel fichier consulter : source/questions/question9/question9.ipynb \n",
    "***\n",
    "This question asks you to find a message in the form of a string within 3D data obtained from ultrasonic measurements of corrosion.\n",
    "\n",
    "- Difficulty level : Very Hard\n",
    "- Total points : 210 points (200 pts + 10 pts for the linter)\n",
    "- Working file  : source/questions/question9/question9.ipynb\n"
   ]
  },
  {
   "attachments": {},
   "cell_type": "markdown",
   "metadata": {},
   "source": [
    "## Question 10\n",
    "\n",
    "Cette question vous demande de mettre en œuvre vos compétences en UX, d'interagir avec une API web et de créer un produit de qualité. Il vous est demandé de créer une application de bureau permettant de visualiser le cours de l'action d'Olympus.\n",
    "\n",
    "- Niveau de difficulté : Difficile\n",
    "- Pointage total : 135 points (85 pts + 10 pts pour le linter + 20 pts pour l'architecture + 20 pts pour les perfromances)\n",
    "- Quel fichier consulter : source/questions/question10/question10.ipynb \n",
    "\n",
    "***\n",
    "\n",
    "This question requires you to utilize your UX skills, interact with a web API, and create a high-quality product. You are asked to create a desktop application that allows viewing the stock price of Olympus.\n",
    "\n",
    "- Difficulty level : Hard\n",
    "- Total points : 135 points (85 pts + 10 pts for the linter + 20 pts for the architecture + 20 pts for the perfromances)\n",
    "- Working file  : source/questions/question10/question10.ipynb"
   ]
  }
 ],
 "metadata": {
  "kernelspec": {
   "display_name": "env",
   "language": "python",
   "name": "python3"
  },
  "language_info": {
   "codemirror_mode": {
    "name": "ipython",
    "version": 3
   },
   "file_extension": ".py",
   "mimetype": "text/x-python",
   "name": "python",
   "nbconvert_exporter": "python",
   "pygments_lexer": "ipython3",
   "version": "3.11.3 (tags/v3.11.3:f3909b8, Apr  4 2023, 23:49:59) [MSC v.1934 64 bit (AMD64)]"
  },
  "polyglot_notebook": {
   "kernelInfo": {
    "defaultKernelName": "csharp",
    "items": [
     {
      "aliases": [
       "c#",
       "C#"
      ],
      "languageName": "C#",
      "name": "csharp"
     },
     {
      "aliases": [],
      "name": ".NET"
     },
     {
      "aliases": [
       "f#",
       "F#"
      ],
      "languageName": "F#",
      "name": "fsharp"
     },
     {
      "aliases": [],
      "languageName": "HTML",
      "name": "html"
     },
     {
      "aliases": [],
      "languageName": "KQL",
      "name": "kql"
     },
     {
      "aliases": [],
      "languageName": "Mermaid",
      "name": "mermaid"
     },
     {
      "aliases": [
       "powershell"
      ],
      "languageName": "PowerShell",
      "name": "pwsh"
     },
     {
      "aliases": [],
      "languageName": "SQL",
      "name": "sql"
     },
     {
      "aliases": [],
      "name": "value"
     },
     {
      "aliases": [
       "frontend"
      ],
      "name": "vscode"
     },
     {
      "aliases": [
       "js"
      ],
      "languageName": "JavaScript",
      "name": "javascript"
     },
     {
      "aliases": [],
      "name": "webview"
     }
    ]
   }
  },
  "vscode": {
   "interpreter": {
    "hash": "dc02a540a5a0750c5810d389ababd13c0ab867d885668ec1e96b4bd69d77b121"
   }
  }
 },
 "nbformat": 4,
 "nbformat_minor": 2
}
