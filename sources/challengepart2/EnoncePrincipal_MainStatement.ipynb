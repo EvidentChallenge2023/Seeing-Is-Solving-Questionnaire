{
 "cells": [
  {
   "attachments": {},
   "cell_type": "markdown",
   "metadata": {},
   "source": [
    "# <center>Evident Challenge</center>  \n",
    "# <center>Énoncé principal - Main Statement</center> \n",
    "# <center>Part 2</center> \n",
    "***"
   ]
  },
  {
   "attachments": {},
   "cell_type": "markdown",
   "metadata": {
    "dotnet_interactive": {
     "language": "csharp"
    },
    "polyglot_notebook": {
     "kernelName": "csharp"
    }
   },
   "source": [
    "(Scroll down for English version)\n",
    "\n",
    "Bonjour à tous et bienvenue au Evident Challenge! \n",
    "\n",
    "Nous espérons que vous aurez beaucoup de plaisir à participer à cette compétition. Nous avons fait de notre mieux pour créer un questionnaire avec des niveaux de difficulté variés ainsi qu'une diversité des différentes technologies abordées. Nous vous ferons parvenir un petit sondage par la suite afin de faire une rétrospective constructive et ainsi utiliser vos commentaires pour améliorer l'expérience l'année prochaine.\n",
    "\n",
    "\n",
    "**Voici les points importants à savoir concernant cette compétition :**\n",
    "\n",
    "1. Chaque question contiendra une description que vous retrouverez dans ce document. La grille de correction se situe dans le fichier suivant : **source/correction/GrilleDeCorrection_CorrectionGrid.xlsm** . \n",
    "\n",
    "Il y a 5 types de questions qui sont les suivant :\n",
    "\n",
    "    - Très Facile : 5 pts\n",
    "    - Facile : 20 pts\n",
    "    - Moyen : 50 pts\n",
    "    - Difficile : 85 pts\n",
    "    - Très difficile : 200 pts\n",
    "\n",
    "    Vous pourriez aussi vous voir attribué un certain nombre de points pour : \n",
    "\n",
    "    - Le linter : 10 pts (tout ou rien, doit respecter le fichier pycodestyle.py fournit à la racine du repo)\n",
    "    - L'architecture  : 0 à 20 pts max\n",
    "    - Performances : 0 à 20 pts max\n",
    "<br>\n",
    "\n",
    "2. Certaines questions seront simplement à répondre dans un fichier notebook (.ipynb) et d'autres seront à implémenter dans des fichiers python (.py) directement. Chaque question vous fournira des indications claires à cet effet.\n",
    "\n",
    "3. Un dossier question peut comprendre une seule ou plusieurs sous-questions.\n",
    "\n",
    "4. Il n'est pas nécessaire de répondre aux questions dans l'ordre, vous pouvez par exemple utiliser des stratégies vous octroyant un maximum de points. Il est normal de ne pas compléter toutes les questions ; la stratégie pour accomplir le défi est un élément clé de cette compétition.\n",
    "\n",
    "5. Nous vous demandons de créer vos tests personnel dans le module suivant ***\"source\\testsperso\"***. Vos fichiers de tests personnels ne seront pas évalués. Cependant, certaines questions peuvent demander l'implémentation de tests qui seront évalués.\n",
    "\n",
    "6. Le présent fichier (EnoncePrincipal_MainStatement.pynb) ***ne doit pas être modifié***. Si ce fichier est modifié dans votre commit final, votre copie ne sera pas corrigée.\n",
    "\n",
    "7. Pour chacune des questions, il vous sera demandé d'implémenter des méthodes qui sont déjà définies. ***Ne modifiez pas le nom de ces méthodes*** car des tests automatisés seront exécutés sur ces dernières. Si vous modifiez le nom d'une méthode à implémenter, le test automatisé échouera et vous n'aurez aucun point pour cette question. ***Ne changez pas le nom des modules***, si le test ne découvre pas votre classe car un module a été renommé, le test automatisé échouera et vous n'aurez aucun point pour cette question.\n",
    "\n",
    "\n",
    "***\n",
    "\n",
    "Hello everyone and welcome to the Evident Challenge! \n",
    "\n",
    "We hope you will have a lot of fun participating in this competition. We have done our best to create a questionnaire with varied levels of difficulty and a diversity of different technologies covered. We will send you a short survey afterwards to conduct a constructive retrospective and use your feedback to improve the experience next year.\n",
    "\n",
    "\n",
    "**Here are the important points to know about this competition:**\n",
    "\n",
    "1. Each question will have a description that you will find in this document. The Shim Grid is located in the following file: **source/correction/GrilleDeCorrection_CorrectionGrid.xlsm**. \n",
    "\n",
    "There are 5 types of questions, which are as follows:\n",
    "\n",
    "    - Very Easy: 5 points\n",
    "    - Easy: 20 points\n",
    "    - Medium: 50 points\n",
    "    - Difficult: 85 points\n",
    "    - Very Difficult: 200 points\n",
    "\n",
    "    You may also be awarded a certain number of points for:\n",
    "\n",
    "    - Linter: 10 points (all or nothing - must respect pycodestyle.py provided at the root of the repo)\n",
    "    - Architecture: 0 to a maximum of 20 points\n",
    "    - Performance: 0 to a maximum of 20 points\n",
    "<br>\n",
    "\n",
    "2. Some questions will simply be answered in a notebook (.ipynb) file and others will be implemented in python (.py) files directly. Each question will give you a clear indication of this.\n",
    "\n",
    "3. A question file may include one or more sub-questions.\n",
    "\n",
    "4. It is not necessary to answer the questions in order, for example you can use strategies that grant you maximum points. It is normal not to complete all the questions; the strategy to accomplish the challenge is a key element of this competition\n",
    "\n",
    "5. We ask you to create your personal tests in the following module: \"source\\testsperso\". Your personal test files will not be graded. However, some questions may require you to implement tests that will be evaluated. \n",
    "\n",
    "6. This file (EnoncePrincipal_MainStatement.pynb) ***must not be edited***. If this file is modified in your final commit, your copy will not be fixed.\n",
    "\n",
    "7. For each question, you will be asked to implement methods that are already defined. ***Do not change the name of these methods*** as automated tests will be performed on these methods. If you change the name of a method to implement, the automated test will fail and you will have no points for that question. ***Do not change the names of the modules.*** If the test cannot find your class because a module has been renamed, the automated test will fail, and you will receive no points for that question.\n",
    "\n",
    "***\n"
   ]
  },
  {
   "attachments": {},
   "cell_type": "markdown",
   "metadata": {},
   "source": [
    "## Question 1\n",
    "\n",
    "Cette question porte sur les fichiers HDF5 soit l'écriture et la lecture de fichiers. \n",
    "\n",
    "- Niveau de difficulté : Easy \n",
    "- Pointage total : 135 points\n",
    "- Quel fichier consulter : **sources/challengepart2/source/question1/Question1.ipynb** \n",
    "\n",
    "***\n",
    "\n",
    "This question is about HDF5 file to write and read files. \n",
    "\n",
    "- Difficulty level : Easy\n",
    "- Total points : 135 points\n",
    "- Working file  : **sources/challengepart2/source/Question1/Question1.ipynb**"
   ]
  },
  {
   "attachments": {},
   "cell_type": "markdown",
   "metadata": {},
   "source": [
    "\n",
    "## Question 2\n",
    "\n",
    "Cette question porte sur les principes SOLID. Voyons si vous êtes un fan d'oncle Bob! \n",
    "Un kernel .Net a été utilisé pour le code exposé dans ce notebook. \n",
    "\n",
    "- Niveau de difficulté : Very Easy\n",
    "- Pointage total : 25 points\n",
    "- Quel fichier consulter : **sources/challengepart2/source/question2/Question2.ipynb** \n",
    "***\n",
    "This question is about SOLID principles. Let’s see if you’re a fan of Uncle Bob! \n",
    "A . Net kernel was used for the code shown in this notebook. \n",
    "\n",
    "- Difficulty level : Very Easy\n",
    "- Total points : 25 points\n",
    "- Working file  : **sources/challengepart2/source/question2/Question2.ipynb**\n"
   ]
  },
  {
   "attachments": {},
   "cell_type": "markdown",
   "metadata": {},
   "source": [
    "## Question 3\n",
    "\n",
    "La génération et la réception d'ondes ultrasonores permettent de visualiser la structure du milieu de propagation. Chaque milieu offre une vélocité différente au son et atténue plus ou moins le signal lors de son retour, en fonction de sa température, entre autres. Afin de pallier à cette situation, il existe un algorithme permettant de modifier l'amplitude du signal lors de son retour pour compenser l'atténuation, à l'aide d'un gain logiciel. Cet algorithme se nomme Time Corrected Gain, communément appelé TCG. Cette question vous demande d'appliquer des points de TCG à un signal donné.\n",
    "\n",
    "- Niveau de difficulté : Moyen\n",
    "- Pointage total : 130 points\n",
    "- Énoncé de la question : **source/question3/Question3.ipynb**\n",
    "- Quel fichier modifier : classe `TCG` dans **source/question3/TCG.py**\n",
    "\n",
    "---\n",
    "\n",
    "The generation and reception of ultrasonic waves allow visualizing the structure of the propagation medium. Each medium offers a different velocity to sound and attenuates the signal to a greater or lesser extent upon its return, depending on factors such as temperature. To overcome this situation, there exists an algorithm that modifies the signal's amplitude upon its return to compensate for attenuation using software gain. This algorithm is called Time Corrected Gain, commonly referred to as TCG. This question asks you to apply TCG points to a given signal.\n",
    "\n",
    "- Difficulty level : Medium\n",
    "- Total points : 130 points\n",
    "- Question statement : **sources/challengepart2/source/question3/Question3.ipynb**\n",
    "- Which file to modify: class `TCG` in **sources/challengepart2/source/question3/TCG.py**"
   ]
  },
  {
   "attachments": {},
   "cell_type": "markdown",
   "metadata": {},
   "source": [
    "## Question 4\n",
    "\n",
    "Cette question porte sur les patrons de conception. Voyons voir si vous connaissez bien vos bases !\n",
    "\n",
    "- Niveau de difficulté : Très Facile\n",
    "- Pointage total : 25 points\n",
    "- Quel fichier consulter : **sources/challengepart2/source/question4/question4.ipynb**\n",
    "---\n",
    "\n",
    "This question is about design patterns. Let's see how well you know your basics!\n",
    "\n",
    "- Difficulty level : Very Easy\n",
    "- Total score : 25 points\n",
    "- Working file  : **sources/challengepart2/source/question4/question4.ipynb**"
   ]
  },
  {
   "attachments": {},
   "cell_type": "markdown",
   "metadata": {},
   "source": [
    "## Question 5\n",
    "\n",
    "La question 5 sera corrigée dans la première version du défi. Rien à faire ici.\n",
    "\n",
    "---\n",
    "\n",
    "Question 5 will be corrected in the first version of the challenge. Nothing to do here."
   ]
  },
  {
   "attachments": {},
   "cell_type": "markdown",
   "metadata": {},
   "source": [
    "## Question 6\n",
    "\n",
    "La question 6 a été remplacée par une énigme. Vous pouvez désormais considérer la question 6 comme une question bonus !\n",
    "\n",
    "- Niveau de difficulté: Très facile \n",
    "- Pointage total: 5 points \n",
    "- Quels fichiers consulter: **sources/challengepart2/source/question6/Question6.ipynb**\n",
    "***\n",
    "Question 6 has been replaced with a riddle. You can now consider question 6 as a bonus question!\n",
    "\n",
    "- Level of difficulty: Very easy\n",
    "- Total score: All or nothing at 5 points\n",
    "- Working file: **sources/challengepart2/source/question6/Question6.ipynb**"
   ]
  },
  {
   "attachments": {},
   "cell_type": "markdown",
   "metadata": {},
   "source": [
    "## Question 7\n",
    "\n",
    "La question 7 sera corrigée dans la première version du défi. Rien à faire ici.\n",
    "\n",
    "---\n",
    "\n",
    "Question 7 will be corrected in the first version of the challenge. Nothing to do here.\n"
   ]
  },
  {
   "attachments": {},
   "cell_type": "markdown",
   "metadata": {},
   "source": [
    "## Question 8\n",
    "Cette question porte sur la sécurité informatique et demande de décrypter un message encrypté avec un chiffrement conçu entre 1700 et 1750.\n",
    "\n",
    "- Niveau de difficulté: Facile \n",
    "- Pointage total: 50 points \n",
    "- Quels fichiers consulter: **sources/challengepart2/source/question8/Question8.ipynb**\n",
    "***\n",
    "This question is about computer security and require to decrypt a message encrypted using a cipher designed between 1700 and 1750.\n",
    "- Level of difficulty: Easy\n",
    "- Total score: 50 points\n",
    "- Working file: **sources/challengepart2/source/question8/Question8.ipynb**"
   ]
  },
  {
   "attachments": {},
   "cell_type": "markdown",
   "metadata": {},
   "source": [
    "## Question 9\n",
    "\n",
    "Cette question vous demande de retrouver un message sous la forme d'une chaîne de caractère à l'intérieur de données 3D en mesure ultrasonore de corrosion.\n",
    "\n",
    "- Niveau de difficulté : Très Difficile\n",
    "- Pointage total : 210 points (200 pts + 10 pts pour le linter)\n",
    "- Quel fichier consulter : **sources/challengepart2/source/question9/question9.ipynb** \n",
    "***\n",
    "This question asks you to find a message in the form of a string within 3D data obtained from ultrasonic measurements of corrosion.\n",
    "\n",
    "- Difficulty level : Very Hard\n",
    "- Total points : 210 points (200 pts + 10 pts for the linter)\n",
    "- Working file  : **sources/challengepart2/source/question9/question9.ipynb** \n"
   ]
  },
  {
   "attachments": {},
   "cell_type": "markdown",
   "metadata": {},
   "source": [
    "## Question 10\n",
    "\n",
    "La question 10 sera corrigée dans la première version du défi. Rien à faire ici.\n",
    "\n",
    "---\n",
    "\n",
    "Question 10 will be corrected in the first version of the challenge. Nothing to do here."
   ]
  }
 ],
 "metadata": {
  "kernelspec": {
   "display_name": "env",
   "language": "python",
   "name": "python3"
  },
  "language_info": {
   "codemirror_mode": {
    "name": "ipython",
    "version": 3
   },
   "file_extension": ".py",
   "mimetype": "text/x-python",
   "name": "python",
   "nbconvert_exporter": "python",
   "pygments_lexer": "ipython3",
   "version": "3.11.3 (tags/v3.11.3:f3909b8, Apr  4 2023, 23:49:59) [MSC v.1934 64 bit (AMD64)]"
  },
  "polyglot_notebook": {
   "kernelInfo": {
    "defaultKernelName": "csharp",
    "items": [
     {
      "aliases": [
       "c#",
       "C#"
      ],
      "languageName": "C#",
      "name": "csharp"
     },
     {
      "aliases": [],
      "name": ".NET"
     },
     {
      "aliases": [
       "f#",
       "F#"
      ],
      "languageName": "F#",
      "name": "fsharp"
     },
     {
      "aliases": [],
      "languageName": "HTML",
      "name": "html"
     },
     {
      "aliases": [],
      "languageName": "KQL",
      "name": "kql"
     },
     {
      "aliases": [],
      "languageName": "Mermaid",
      "name": "mermaid"
     },
     {
      "aliases": [
       "powershell"
      ],
      "languageName": "PowerShell",
      "name": "pwsh"
     },
     {
      "aliases": [],
      "languageName": "SQL",
      "name": "sql"
     },
     {
      "aliases": [],
      "name": "value"
     },
     {
      "aliases": [
       "frontend"
      ],
      "name": "vscode"
     },
     {
      "aliases": [
       "js"
      ],
      "languageName": "JavaScript",
      "name": "javascript"
     },
     {
      "aliases": [],
      "name": "webview"
     }
    ]
   }
  },
  "vscode": {
   "interpreter": {
    "hash": "dc02a540a5a0750c5810d389ababd13c0ab867d885668ec1e96b4bd69d77b121"
   }
  }
 },
 "nbformat": 4,
 "nbformat_minor": 2
}
