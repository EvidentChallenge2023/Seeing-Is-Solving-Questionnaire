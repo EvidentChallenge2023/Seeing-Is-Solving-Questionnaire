{
 "cells": [
  {
   "attachments": {},
   "cell_type": "markdown",
   "metadata": {},
   "source": [
    "# Question 6 - Énigme\n",
    "\n",
    "Cette question vous propose une énigme à résoudre. On vous demande d'implémenter la réponse dans le fichier suivant : source\\question6\\Riddle.py.\n",
    "\n",
    "Lors d'une entrevue, un chef d'équipe du département des finances pose l'énigme suivante à son stagiaire éventuel : \n",
    "\n",
    "**<<Le MX2 a cinq fois l'âge que le X3 avait quand le MX2 avait l'âge que le X3 a maintenant. Le MX2 a 20 ans. Quel âge a le X3? >>**\n",
    "\n",
    "***\n",
    "# Question 6 - Riddle\n",
    "\n",
    "This question presents you with a riddle to solve. You are asked to implement the answer in the following file: source\\question6\\Riddle.py.\n",
    "\n",
    "During an interview, a team leader from the finance department poses the following riddle to a prospective intern:\n",
    "\n",
    "**<<The MX2 is five times the age that the X3 had when the MX2 was the age that the X3 is now. The MX2 is 20 years old. How old is the X3?>>**"
   ]
  }
 ],
 "metadata": {
  "language_info": {
   "name": "python"
  },
  "orig_nbformat": 4
 },
 "nbformat": 4,
 "nbformat_minor": 2
}
