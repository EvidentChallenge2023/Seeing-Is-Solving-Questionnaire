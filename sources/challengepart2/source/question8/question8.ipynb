{
 "cells": [
  {
   "attachments": {},
   "cell_type": "markdown",
   "metadata": {},
   "source": [
    "# Question 8\n",
    "\n",
    "Pour cette question il faudra mettre en pratique vos talents de détectives !\n",
    "\n",
    "Un texte a été encrypté avec un algorithme très spécial mis au point entre les années 1700 et 1750.\n",
    "À vous de déterminer duquel il s'agit pour pouvoir décoder le message en question !\n",
    "Petit indice, ce n'est pas le chiffrement de Vigenere et la clé est 713705.\n",
    "\n",
    "Afin de réaliser cette tâche il vous faudra implémenter la méthode **\"decrypt\"** présente dans le fichier **sources/challengepart2/source/question8/question8.py**.\n",
    "\n",
    "Cette méthode doit retourner une chaîne de caractères qui doit correspondre au message décrypté.\n",
    "\n",
    "***\n",
    "\n",
    "For this question, you will need to put your detective skills into practice!\n",
    "\n",
    "A text has been encrypted using a very special algorithm developed between the years 1700 and 1750.\n",
    "It's up to you to determine which one it is in order to decode the message in question!\n",
    "Small hint, it is not the Vigenère cipher and the key is 713705.\n",
    "\n",
    "In order to accomplish this task, you will need to implement the **\"decrypt\"** method found in the file **sources/challengepart2/source/question8/question8.py**.\n",
    "\n",
    "This method should return a string that corresponds to the decrypted message."
   ]
  }
 ],
 "metadata": {
  "kernelspec": {
   "display_name": ".NET (PowerShell)",
   "language": "PowerShell",
   "name": ".net-powershell"
  },
  "language_info": {
   "file_extension": ".ps1",
   "mimetype": "text/x-powershell",
   "name": "PowerShell",
   "pygments_lexer": "powershell",
   "version": "7.0"
  },
  "orig_nbformat": 4
 },
 "nbformat": 4,
 "nbformat_minor": 2
}
